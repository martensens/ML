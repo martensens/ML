{
 "cells": [
  {
   "cell_type": "code",
   "execution_count": null,
   "id": "0cf57a06-273d-496c-a196-604b53a7e980",
   "metadata": {},
   "outputs": [
    {
     "data": {
      "text/plain": [
       "16"
      ]
     },
     "execution_count": 1,
     "metadata": {},
     "output_type": "execute_result"
    }
   ],
   "source": [
    "4*4\n"
   ]
  },
  {
   "cell_type": "code",
   "execution_count": null,
   "id": "8116407d-1a93-421d-8a49-59aaf5c6779b",
   "metadata": {},
   "outputs": [],
   "source": [
    "3+3"
   ]
  }
 ],
 "metadata": {
  "kernelspec": {
   "display_name": "Python 3 (ipykernel)",
   "language": "python",
   "name": "python3"
  },
  "language_info": {
   "codemirror_mode": {
    "name": "ipython",
    "version": 3
   },
   "file_extension": ".py",
   "mimetype": "text/x-python",
   "name": "python",
   "nbconvert_exporter": "python",
   "pygments_lexer": "ipython3",
   "version": "3.11.6"
  }
 },
 "nbformat": 4,
 "nbformat_minor": 5
}
